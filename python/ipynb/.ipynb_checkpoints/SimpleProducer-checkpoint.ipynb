{
 "cells": [
  {
   "cell_type": "code",
   "execution_count": null,
   "id": "1aacb3ae",
   "metadata": {},
   "outputs": [],
   "source": [
    "from confluent_kafka import Producer, KafkaException\n",
    "import json"
   ]
  },
  {
   "cell_type": "code",
   "execution_count": null,
   "id": "f0960f37",
   "metadata": {},
   "outputs": [],
   "source": [
    "kafka_addr = '127.0.0.1:39092'\n",
    "topic = 'test'\n",
    "partition = 0"
   ]
  },
  {
   "cell_type": "markdown",
   "id": "a4576f29",
   "metadata": {},
   "source": [
    "### init"
   ]
  },
  {
   "cell_type": "code",
   "execution_count": null,
   "id": "83a6e349",
   "metadata": {},
   "outputs": [],
   "source": [
    "producer = Producer({\n",
    "    'bootstrap.servers' : kafka_addr,\n",
    "    'message.max.bytes' : 400000\n",
    "})\n",
    "producer.poll(0)"
   ]
  },
  {
   "cell_type": "markdown",
   "id": "b9629ae1",
   "metadata": {},
   "source": [
    "### produce report (callback)"
   ]
  },
  {
   "cell_type": "code",
   "execution_count": null,
   "id": "2dc1927e",
   "metadata": {},
   "outputs": [],
   "source": [
    "def produce_report(err, msg):\n",
    "    if err:\n",
    "        print(f'Produce Message Failed : {err}')\n",
    "    else:\n",
    "        print(f'Produce Message Success. Topic : {msg.topic()}, Partition : {msg.partition()}, Offset : {msg.offset()}, Length : {len(msg.value())}')"
   ]
  },
  {
   "cell_type": "markdown",
   "id": "f37d66fa",
   "metadata": {},
   "source": [
    "### produce"
   ]
  },
  {
   "cell_type": "code",
   "execution_count": null,
   "id": "16da6a44",
   "metadata": {},
   "outputs": [],
   "source": [
    "msg = {\n",
    "    'a' : 1,\n",
    "    'b' : 2,\n",
    "    'c' : 3\n",
    "}\n",
    "\n",
    "producer.produce(\n",
    "    topic, \n",
    "    json.dumps(msg), \n",
    "    partition=partition, \n",
    "    callback=produce_report, \n",
    "    headers={'type':'sample', 'type2':\"sample2\"} # optional\n",
    ")\n",
    "\n",
    "\n",
    "\n"
   ]
  },
  {
   "cell_type": "code",
   "execution_count": null,
   "id": "c5a5768c",
   "metadata": {},
   "outputs": [],
   "source": []
  },
  {
   "cell_type": "code",
   "execution_count": null,
   "id": "b280cba1",
   "metadata": {},
   "outputs": [],
   "source": []
  },
  {
   "cell_type": "code",
   "execution_count": null,
   "id": "be838094",
   "metadata": {},
   "outputs": [],
   "source": []
  }
 ],
 "metadata": {
  "kernelspec": {
   "display_name": "Python 3 (ipykernel)",
   "language": "python",
   "name": "python3"
  },
  "language_info": {
   "codemirror_mode": {
    "name": "ipython",
    "version": 3
   },
   "file_extension": ".py",
   "mimetype": "text/x-python",
   "name": "python",
   "nbconvert_exporter": "python",
   "pygments_lexer": "ipython3",
   "version": "3.11.3"
  }
 },
 "nbformat": 4,
 "nbformat_minor": 5
}
