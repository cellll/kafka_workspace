{
 "cells": [
  {
   "cell_type": "code",
   "execution_count": 2,
   "id": "7c439140",
   "metadata": {},
   "outputs": [],
   "source": [
    "from confluent_kafka.admin import AdminClient, NewTopic\n",
    "from confluent_kafka import TopicPartition\n",
    "\n",
    "kafka_addr = '127.0.0.1:39092'\n"
   ]
  },
  {
   "cell_type": "markdown",
   "id": "1009d9ad",
   "metadata": {},
   "source": [
    "### Make client"
   ]
  },
  {
   "cell_type": "code",
   "execution_count": 3,
   "id": "bf96e03c",
   "metadata": {},
   "outputs": [],
   "source": [
    "admin = AdminClient({\n",
    "    'bootstrap.servers' : kafka_addr\n",
    "})"
   ]
  },
  {
   "cell_type": "markdown",
   "id": "d39f3674",
   "metadata": {},
   "source": [
    "### List topics"
   ]
  },
  {
   "cell_type": "code",
   "execution_count": 9,
   "id": "76577910",
   "metadata": {},
   "outputs": [
    {
     "name": "stdout",
     "output_type": "stream",
     "text": [
      "{'ctest': TopicMetadata(ctest, 6 partitions), 'test': TopicMetadata(test, 1 partitions), '__consumer_offsets': TopicMetadata(__consumer_offsets, 50 partitions)}\n"
     ]
    }
   ],
   "source": [
    "meta = admin.list_topics(timeout=1)\n",
    "print (meta.topics)"
   ]
  },
  {
   "cell_type": "markdown",
   "id": "76605893",
   "metadata": {},
   "source": [
    "### Create topics"
   ]
  },
  {
   "cell_type": "code",
   "execution_count": 6,
   "id": "672cc330",
   "metadata": {},
   "outputs": [
    {
     "name": "stdout",
     "output_type": "stream",
     "text": [
      "None\n",
      "None\n",
      "None\n"
     ]
    }
   ],
   "source": [
    "topics = ['test1', 'test2', 'test3']\n",
    "new_topics = [NewTopic(topic, num_partitions=3, replication_factor=1) for topic in topics]\n",
    "\n",
    "future = admin.create_topics(new_topics)\n",
    "for k, v in future.items():\n",
    "    print (v.result()) # None: OK\n",
    " "
   ]
  },
  {
   "cell_type": "markdown",
   "id": "f5e7fa08",
   "metadata": {},
   "source": [
    "### Delete topics"
   ]
  },
  {
   "cell_type": "code",
   "execution_count": 8,
   "id": "9dc1dfc7",
   "metadata": {},
   "outputs": [
    {
     "name": "stdout",
     "output_type": "stream",
     "text": [
      "None\n",
      "None\n",
      "None\n"
     ]
    }
   ],
   "source": [
    "del_topics = ['test1', 'test2', 'test3']\n",
    "fs = admin.delete_topics(del_topics, operation_timeout=10)\n",
    "for k, v in fs.items():\n",
    "    try:\n",
    "        print (v.result()) # None: OK\n",
    "    except Exception as e:\n",
    "        print (e)"
   ]
  },
  {
   "cell_type": "code",
   "execution_count": null,
   "id": "2245fdc7",
   "metadata": {},
   "outputs": [],
   "source": []
  },
  {
   "cell_type": "code",
   "execution_count": null,
   "id": "52469be4",
   "metadata": {},
   "outputs": [],
   "source": []
  },
  {
   "cell_type": "code",
   "execution_count": null,
   "id": "cab389ae",
   "metadata": {},
   "outputs": [],
   "source": []
  }
 ],
 "metadata": {
  "kernelspec": {
   "display_name": "Python 3 (ipykernel)",
   "language": "python",
   "name": "python3"
  },
  "language_info": {
   "codemirror_mode": {
    "name": "ipython",
    "version": 3
   },
   "file_extension": ".py",
   "mimetype": "text/x-python",
   "name": "python",
   "nbconvert_exporter": "python",
   "pygments_lexer": "ipython3",
   "version": "3.11.3"
  }
 },
 "nbformat": 4,
 "nbformat_minor": 5
}
