{
 "cells": [
  {
   "cell_type": "code",
   "execution_count": null,
   "id": "3b09675c",
   "metadata": {},
   "outputs": [],
   "source": [
    "import json\n",
    "from confluent_kafka import Consumer, TopicPartition, KafkaException\n",
    "from confluent_kafka.admin import AdminClient, NewTopic"
   ]
  },
  {
   "cell_type": "code",
   "execution_count": null,
   "id": "fbc7899a",
   "metadata": {},
   "outputs": [],
   "source": [
    "kafka_addr = '127.0.0.1:39092'\n",
    "topic = 'test'\n",
    "c_part = [0]\n",
    "\n",
    "c = Consumer({\n",
    "    'bootstrap.servers' : kafka_addr,\n",
    "    'group.id' : 'congroup',\n",
    "    'auto.offset.reset' : 'latest'\n",
    "})\n",
    "tps = [TopicPartition(topic, cp) for cp in c_part]\n",
    "c.assign(tps)"
   ]
  },
  {
   "cell_type": "code",
   "execution_count": null,
   "id": "0241c431",
   "metadata": {},
   "outputs": [],
   "source": [
    "while True:\n",
    "    try:\n",
    "        msg = c.poll(timeout=1)\n",
    "        if msg is None:\n",
    "            continue\n",
    "        if msg.offset() is None:\n",
    "            continue\n",
    "        if msg.error():\n",
    "            raise KafkaException(msg.error())\n",
    "            \n",
    "        header = msg.headers()\n",
    "        data = msg.value()\n",
    "        partition = msg.partition()\n",
    "        print (f'header : {header}, partition : {partition}, message : {data}')\n",
    "        \n",
    "    except Exception as e:\n",
    "        print (e)"
   ]
  },
  {
   "cell_type": "code",
   "execution_count": null,
   "id": "336828be",
   "metadata": {},
   "outputs": [],
   "source": []
  }
 ],
 "metadata": {
  "kernelspec": {
   "display_name": "Python 3 (ipykernel)",
   "language": "python",
   "name": "python3"
  },
  "language_info": {
   "codemirror_mode": {
    "name": "ipython",
    "version": 3
   },
   "file_extension": ".py",
   "mimetype": "text/x-python",
   "name": "python",
   "nbconvert_exporter": "python",
   "pygments_lexer": "ipython3",
   "version": "3.11.3"
  }
 },
 "nbformat": 4,
 "nbformat_minor": 5
}
